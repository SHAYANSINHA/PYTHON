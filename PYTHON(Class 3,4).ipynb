{
 "cells": [
  {
   "cell_type": "markdown",
   "id": "2dcd7a33",
   "metadata": {},
   "source": [
    "# CONDITIONS"
   ]
  },
  {
   "cell_type": "code",
   "execution_count": null,
   "id": "c0479539",
   "metadata": {},
   "outputs": [],
   "source": [
    "if tomorrow_rains:\n",
    "    print(\"I WILL not go to school\")\n",
    "else:\n",
    "    print(\"I will go to school\")\n"
   ]
  },
  {
   "cell_type": "code",
   "execution_count": 1,
   "id": "824d8da8",
   "metadata": {},
   "outputs": [
    {
     "name": "stdout",
     "output_type": "stream",
     "text": [
      "enter a integer value : 2\n",
      "2 is  not greater than  5\n"
     ]
    }
   ],
   "source": [
    "x=int(input(\"enter a integer value : \"))\n",
    "if x>5 :\n",
    "    print( x , \"is greater than 5\")\n",
    "else :\n",
    "    print(x , \"is  not greater than  5\")\n",
    "    "
   ]
  },
  {
   "cell_type": "markdown",
   "id": "0a557fa0",
   "metadata": {},
   "source": [
    "# positive/negative"
   ]
  },
  {
   "cell_type": "code",
   "execution_count": 7,
   "id": "1d47df09",
   "metadata": {},
   "outputs": [
    {
     "name": "stdout",
     "output_type": "stream",
     "text": [
      "enter a integer value : 0\n",
      "0 is not  a positive number\n"
     ]
    }
   ],
   "source": [
    "x=int(input(\"enter a integer value : \"))\n",
    "if x>0 :\n",
    "    print(x,\"is a positive number\")\n",
    "else :\n",
    "    print(x,\"is not  a positive number\")"
   ]
  },
  {
   "cell_type": "markdown",
   "id": "c9aa568e",
   "metadata": {},
   "source": [
    "# A COMPANY DECIDED 5 % OF BONUS TO HIS EMPLOY IF HIS/HER YEAR OF SERVICE IS MORE THAN 5 YEARS.ASK USER TO THEIR SALARY AND YEAR OF SERVICE AND PRINT  NET AMOUNT"
   ]
  },
  {
   "cell_type": "code",
   "execution_count": 8,
   "id": "962b739e",
   "metadata": {},
   "outputs": [
    {
     "name": "stdout",
     "output_type": "stream",
     "text": [
      "enter salary : 2000\n",
      "enter your service year : 6\n",
      "your NET-salary is : 2100.0\n"
     ]
    }
   ],
   "source": [
    "sal=int(input(\"enter salary : \"))\n",
    "year=int(input(\"enter your service year : \" ))\n",
    "if year>5 :\n",
    "    bonus=(sal*5)/100\n",
    "    sal=sal+bonus\n",
    "    print(\"your NET-salary is :\",sal)\n",
    "else :\n",
    "    print(\"your salary is :\",sal)\n",
    "             "
   ]
  },
  {
   "cell_type": "markdown",
   "id": "f465c5aa",
   "metadata": {},
   "source": [
    "# TAKE 3 NUMBER AS INPUT PRINT WHICH ONE IS GREATER"
   ]
  },
  {
   "cell_type": "code",
   "execution_count": 12,
   "id": "393851f3",
   "metadata": {},
   "outputs": [
    {
     "name": "stdout",
     "output_type": "stream",
     "text": [
      "enter first number :10\n",
      "enter second number :22\n",
      "enter third number :5\n",
      "22 is the greatest number\n"
     ]
    }
   ],
   "source": [
    "p = int(input(\"enter first number :\"))\n",
    "\n",
    "q = int(input(\"enter second number :\"))\n",
    "\n",
    "y = int(input(\"enter third number :\"))\n",
    "\n",
    "if p==q==y :\n",
    "    print(\"all are equal\")\n",
    "elif p>q and p>y :\n",
    "    print(p, \"is the greatest number\")\n",
    "elif q>y:\n",
    "    print(q, \"is the greatest number\")\n",
    "else :\n",
    "    print(y, \"is the greatest number\")\n",
    "    "
   ]
  },
  {
   "cell_type": "markdown",
   "id": "bd0255cf",
   "metadata": {},
   "source": [
    "# LEAP YEAR OR NOT"
   ]
  },
  {
   "cell_type": "code",
   "execution_count": 5,
   "id": "de1dc71e",
   "metadata": {},
   "outputs": [
    {
     "name": "stdout",
     "output_type": "stream",
     "text": [
      "Enter a year : 2024\n",
      "2024  year is leap year\n"
     ]
    }
   ],
   "source": [
    "year=int(input(\"Enter a year : \"))\n",
    "if year%400==0  and year%100==0 :\n",
    "    print (year,\" year is leap year\")\n",
    "elif year%4 == 0 and year%100!= 0:\n",
    "    print (year,\" year is leap year\")\n",
    "else :\n",
    "    print (year,\" year is not leap year\")"
   ]
  },
  {
   "cell_type": "markdown",
   "id": "afb0b3f1",
   "metadata": {},
   "source": [
    "# EVEN OR ODD"
   ]
  },
  {
   "cell_type": "code",
   "execution_count": 8,
   "id": "36e54882",
   "metadata": {},
   "outputs": [
    {
     "name": "stdout",
     "output_type": "stream",
     "text": [
      " enter a integer number : 6\n",
      "6 is a even number\n"
     ]
    }
   ],
   "source": [
    "a=int(input(\" enter a integer number : \"))\n",
    "if a % 2 == 0 :\n",
    "    print(a, \"is a even number\")\n",
    "else :\n",
    "    print(a, \"is a odd number\")\n",
    "    "
   ]
  },
  {
   "cell_type": "markdown",
   "id": "f137b87f",
   "metadata": {},
   "source": [
    "\"\"\"A student is not be allowed to sit in exam if his attendance is less than\n",
    "75%.\n",
    "Take following input from user:\n",
    "Number of classes held.\n",
    "Number of classes attended.\n",
    "And print percentage of class attended.\n",
    "Is student is allowed to sit in exam or not.\n",
    "Modify the above question and check if attendance of the student is less\n",
    "than 75%, he/she has some medical issues or not. Take input as Y/N and\n",
    "if Y then allow him/her.\"\"\""
   ]
  },
  {
   "cell_type": "code",
   "execution_count": 2,
   "id": "e70d4e00",
   "metadata": {},
   "outputs": [
    {
     "name": "stdout",
     "output_type": "stream",
     "text": [
      "number of class held before exam : 80\n",
      "number of class attend before exam : 30\n",
      "PERCENTAGE OF ATTNDING CLASS BEFORE EXAM :  37.5\n",
      "he/she have medical issus(y/n) :n\n",
      "HE/SHE WILL  NOT ALLOW  TO SIT IN EXAM\n"
     ]
    }
   ],
   "source": [
    "x=int(input(\"number of class held before exam : \"))\n",
    "y=int(input(\"number of class attend before exam : \"))\n",
    "p=(y/x)*100\n",
    "print(\"PERCENTAGE OF ATTNDING CLASS BEFORE EXAM : \" ,p)\n",
    "if p >75 :\n",
    "    print(\"HE/SHE WILL  ALLOW  TO SIT IN EXAM\")\n",
    "elif p<75:\n",
    "    m = input(\"he/she have medical issus(y/n) :\")\n",
    "    if m == \"y\":\n",
    "        print(\"HE/SHE WILL  ALLOW  TO SIT IN EXAM\")\n",
    "    else :\n",
    "        print(\"HE/SHE WILL  NOT ALLOW  TO SIT IN EXAM\")\n",
    "else :\n",
    "    print(\"HE/SHE WILL NOT ALLOW  TO SIT IN EXAM\")\n"
   ]
  },
  {
   "cell_type": "code",
   "execution_count": 1,
   "id": "b5e15f03",
   "metadata": {},
   "outputs": [
    {
     "name": "stdout",
     "output_type": "stream",
     "text": [
      "number of class held before exam : 80\n",
      "number of class attend before exam : 26\n",
      "PERCENTAGE OF ATTNDING CLASS BEFORE EXAM :  32.5\n",
      "he/she have medical issus(y/n) :y\n",
      "HE/SHE WILL  ALLOW  TO SIT IN EXAM\n"
     ]
    }
   ],
   "source": [
    "x=int(input(\"number of class held before exam : \"))\n",
    "y=int(input(\"number of class attend before exam : \"))\n",
    "p=(y/x)*100\n",
    "print(\"PERCENTAGE OF ATTNDING CLASS BEFORE EXAM : \" ,p)\n",
    "if p<75:\n",
    "    m = input(\"he/she have medical issus(y/n) :\")\n",
    "    if m == \"y\":\n",
    "        print(\"HE/SHE WILL  ALLOW  TO SIT IN EXAM\")\n",
    "    else :\n",
    "        print(\"HE/SHE WILL  NOT ALLOW  TO SIT IN EXAM\")\n",
    "else :\n",
    "    print(\"HE/SHE WILL  ALLOW  TO SIT IN EXAM\")"
   ]
  },
  {
   "cell_type": "markdown",
   "id": "c8367373",
   "metadata": {},
   "source": [
    "# LOOP STATEMENT"
   ]
  },
  {
   "cell_type": "code",
   "execution_count": 3,
   "id": "d86f7ed4",
   "metadata": {},
   "outputs": [
    {
     "name": "stdout",
     "output_type": "stream",
     "text": [
      "HELLO WORLD\n",
      "HELLO WORLD\n",
      "HELLO WORLD\n",
      "HELLO WORLD\n",
      "HELLO WORLD\n"
     ]
    }
   ],
   "source": [
    "a=\"HELLO WORLD\"\n",
    "print(\"HELLO WORLD\")\n",
    "print(\"HELLO WORLD\")\n",
    "print(\"HELLO WORLD\")\n",
    "print(\"HELLO WORLD\")\n",
    "print(\"HELLO WORLD\")"
   ]
  },
  {
   "cell_type": "code",
   "execution_count": 5,
   "id": "c14c3e7c",
   "metadata": {},
   "outputs": [
    {
     "name": "stdout",
     "output_type": "stream",
     "text": [
      "HELLO WORLD\n",
      "HELLO WORLD\n",
      "HELLO WORLD\n",
      "HELLO WORLD\n",
      "HELLO WORLD\n"
     ]
    }
   ],
   "source": [
    "for i in range(1,6,1): # excluding upper boundary\n",
    "    print(\"HELLO WORLD\")\n",
    "    \n"
   ]
  },
  {
   "cell_type": "code",
   "execution_count": 4,
   "id": "cfff7cec",
   "metadata": {},
   "outputs": [
    {
     "name": "stdout",
     "output_type": "stream",
     "text": [
      "HELLO WORLD\n",
      "HELLO WORLD\n",
      "HELLO WORLD\n"
     ]
    }
   ],
   "source": [
    "for i in range(1,6,2):\n",
    "    print(\"HELLO WORLD\")"
   ]
  },
  {
   "cell_type": "code",
   "execution_count": 7,
   "id": "702a3744",
   "metadata": {},
   "outputs": [
    {
     "name": "stdout",
     "output_type": "stream",
     "text": [
      "HELLO WORLD\n",
      "HELLO WORLD\n",
      "HELLO WORLD\n",
      "HELLO WORLD\n",
      "HELLO WORLD\n"
     ]
    }
   ],
   "source": [
    "for i in range(5):#bydefault consider 0 as first value\n",
    "    print(\"HELLO WORLD\")"
   ]
  },
  {
   "cell_type": "code",
   "execution_count": 8,
   "id": "8e809ed7",
   "metadata": {},
   "outputs": [
    {
     "name": "stdout",
     "output_type": "stream",
     "text": [
      "1\n",
      "2\n",
      "3\n",
      "4\n",
      "5\n"
     ]
    }
   ],
   "source": [
    "for i in range(1,6):\n",
    "    print(i)"
   ]
  },
  {
   "cell_type": "code",
   "execution_count": 9,
   "id": "ba015103",
   "metadata": {},
   "outputs": [
    {
     "name": "stdout",
     "output_type": "stream",
     "text": [
      "20\n",
      "19\n",
      "18\n",
      "17\n",
      "16\n",
      "15\n",
      "14\n",
      "13\n",
      "12\n",
      "11\n",
      "10\n",
      "9\n",
      "8\n",
      "7\n",
      "6\n"
     ]
    }
   ],
   "source": [
    "for i in range(20,5,-1):\n",
    "    print(i)"
   ]
  },
  {
   "cell_type": "code",
   "execution_count": null,
   "id": "dfec34d4",
   "metadata": {},
   "outputs": [],
   "source": [
    "start-x\n",
    "end-y"
   ]
  },
  {
   "cell_type": "code",
   "execution_count": 7,
   "id": "496ad40e",
   "metadata": {},
   "outputs": [
    {
     "name": "stdout",
     "output_type": "stream",
     "text": [
      "enter start value : 10\n",
      "enter end value : 5\n",
      "10\n",
      "9\n",
      "8\n",
      "7\n",
      "6\n",
      "5\n"
     ]
    }
   ],
   "source": [
    "x=int(input(\"enter start value : \"))\n",
    "y=int(input(\"enter end value : \"))\n",
    "if x<y:\n",
    "    for i in range(x,y+1):\n",
    "        print(i)\n",
    "elif x>y :\n",
    "    for i in range(x,y-1,-1):\n",
    "        print(i)\n",
    "else :\n",
    "    print(\"both number are same\")"
   ]
  },
  {
   "cell_type": "code",
   "execution_count": 22,
   "id": "075dcb43",
   "metadata": {},
   "outputs": [
    {
     "name": "stdout",
     "output_type": "stream",
     "text": [
      "enter start value : 2\n",
      "enter end value : 10\n",
      "2\n",
      "3\n",
      "4\n",
      "5\n",
      "6\n",
      "7\n",
      "8\n",
      "9\n",
      "10\n"
     ]
    }
   ],
   "source": [
    "x=int(input(\"enter start value : \"))\n",
    "y=int(input(\"enter end value : \"))\n",
    "if x<y:\n",
    "    for i in range(x,y+1):\n",
    "        print(i)\n",
    "elif x>y :\n",
    "    for i in range(x,y-1,-1):\n",
    "        print(i)\n",
    "else :\n",
    "    print(\"both number are same\")"
   ]
  },
  {
   "cell_type": "markdown",
   "id": "197ba1cb",
   "metadata": {},
   "source": [
    "# TAKE A RANGE FROM USER AND PRINT EVEN NUMBER"
   ]
  },
  {
   "cell_type": "code",
   "execution_count": 25,
   "id": "5532a49d",
   "metadata": {
    "scrolled": true
   },
   "outputs": [
    {
     "name": "stdout",
     "output_type": "stream",
     "text": [
      "enter start value : 6\n",
      "enter end value : 30\n",
      "6\n",
      "8\n",
      "10\n",
      "12\n",
      "14\n",
      "16\n",
      "18\n",
      "20\n",
      "22\n",
      "24\n",
      "26\n",
      "28\n",
      "30\n"
     ]
    }
   ],
   "source": [
    "x=int(input(\"enter start value : \"))\n",
    "y=int(input(\"enter end value : \"))\n",
    "for i in range(x,y+1):\n",
    "    if i%2==0:\n",
    "        print(i)"
   ]
  },
  {
   "cell_type": "markdown",
   "id": "961ce5db",
   "metadata": {},
   "source": [
    "# TAKE A RANGE FROM USER AND PRINT the factors of it"
   ]
  },
  {
   "cell_type": "code",
   "execution_count": 28,
   "id": "ddab8d05",
   "metadata": {},
   "outputs": [
    {
     "name": "stdout",
     "output_type": "stream",
     "text": [
      "ENTER A INTEGER NUMBER : 10\n",
      "Factors of 10 are : \n",
      "1\n",
      "2\n",
      "5\n",
      "10\n"
     ]
    }
   ],
   "source": [
    "num=int(input(\"ENTER A INTEGER NUMBER : \"))\n",
    "print(\"Factors of\",num,\"are : \")\n",
    "for i in range(1,num+1):\n",
    "    if num % i == 0 :\n",
    "        print(i)"
   ]
  },
  {
   "cell_type": "code",
   "execution_count": 29,
   "id": "712f251e",
   "metadata": {},
   "outputs": [
    {
     "name": "stdout",
     "output_type": "stream",
     "text": [
      "ENTER A INTEGER NUMBER : 10\n",
      "Factors of 10 are : \n",
      "1 2 5 10 "
     ]
    }
   ],
   "source": [
    "num=int(input(\"ENTER A INTEGER NUMBER : \"))\n",
    "print(\"Factors of\",num,\"are : \")\n",
    "for i in range(1,num+1):\n",
    "    if num % i == 0 :\n",
    "        print(i,end=\" \")"
   ]
  },
  {
   "cell_type": "markdown",
   "id": "beccb486",
   "metadata": {},
   "source": [
    "# TAKE A RANGE FROM USER AND PRINT the sum of the numbers"
   ]
  },
  {
   "cell_type": "code",
   "execution_count": 9,
   "id": "8c4e086c",
   "metadata": {},
   "outputs": [
    {
     "name": "stdout",
     "output_type": "stream",
     "text": [
      "enter start value : 1\n",
      "enter end value : 6\n",
      "21\n"
     ]
    }
   ],
   "source": [
    "x=int(input(\"enter start value : \"))\n",
    "y=int(input(\"enter end value : \"))\n",
    "sum=0 #declare initial sum variable starting with 0\n",
    "for i in range(x,y+1):\n",
    "    sum=sum+i\n",
    "print(sum)    \n",
    "    "
   ]
  },
  {
   "cell_type": "code",
   "execution_count": 34,
   "id": "f8c101a9",
   "metadata": {},
   "outputs": [
    {
     "name": "stdout",
     "output_type": "stream",
     "text": [
      "Enter the start of the range: 10\n",
      "Enter the end of the range: 20\n",
      "The sum of numbers from 10 to 20 is: 165\n"
     ]
    }
   ],
   "source": [
    "start = int(input(\"Enter the start of the range: \"))\n",
    "end = int(input(\"Enter the end of the range: \"))\n",
    "\n",
    "sum_of_numbers = sum(range(start, end + 1))\n",
    "\n",
    "print(f\"The sum of numbers from {start} to {end} is: {sum_of_numbers}\")"
   ]
  },
  {
   "cell_type": "markdown",
   "id": "51113ff3",
   "metadata": {},
   "source": [
    "# perfect number 6=1,2,3  1+2+3=6 then it perfect"
   ]
  },
  {
   "cell_type": "code",
   "execution_count": 37,
   "id": "477eadcc",
   "metadata": {},
   "outputs": [
    {
     "name": "stdout",
     "output_type": "stream",
     "text": [
      "ENTER A NUMBER TO CHECK IT PERFECT OR NOT : 6\n",
      "6 is a perfect number\n"
     ]
    }
   ],
   "source": [
    "num= int(input(\"ENTER A NUMBER TO CHECK IT PERFECT OR NOT : \"))\n",
    "sum=0\n",
    "for i in range(1,num): # akhane sesher number ta bad dichi taii(e.g 6) tar akta age projonto nebo taii x+1 nilam na\n",
    "    if num % i ==0 :\n",
    "        sum=sum+i\n",
    "if sum == num :\n",
    "    print(num,\"is a perfect number\")\n",
    "else :\n",
    "    print(num,\"is not  a perfect number\")\n",
    "    "
   ]
  },
  {
   "cell_type": "code",
   "execution_count": 3,
   "id": "a90d9aac",
   "metadata": {},
   "outputs": [
    {
     "name": "stdout",
     "output_type": "stream",
     "text": [
      "ENTER A NUMBER TO CHECK IT PERFECT OR NOT : 10\n",
      "10 is not  a perfect number\n"
     ]
    }
   ],
   "source": [
    "num= int(input(\"ENTER A NUMBER TO CHECK IT PERFECT OR NOT : \"))\n",
    "sum=0\n",
    "for i in range(1,num): # akhane sesher number ta bad dichi taii(e.g 6) tar akta age projonto nebo taii x+1 nilam na\n",
    "    if num % i ==0 :\n",
    "        sum=sum+i\n",
    "if sum == num :\n",
    "    print(num,\"is a perfect number\")\n",
    "else :\n",
    "    print(num,\"is not a perfect number\")\n",
    "    "
   ]
  },
  {
   "cell_type": "markdown",
   "id": "7fda0c0a",
   "metadata": {},
   "source": [
    "# FACTORIAL"
   ]
  },
  {
   "cell_type": "code",
   "execution_count": 1,
   "id": "85f5e0c2",
   "metadata": {},
   "outputs": [
    {
     "name": "stdout",
     "output_type": "stream",
     "text": [
      "ENTER A INTEGER NUMBER : 5\n",
      "The factorial of 5 is: 120\n"
     ]
    }
   ],
   "source": [
    "# Taking input from the user\n",
    "number = int(input(\"ENTER A INTEGER NUMBER : \"))\n",
    "\n",
    "# Initializing factorial to 1\n",
    "factorial = 1\n",
    "\n",
    "# Calculating factorial using for loop\n",
    "for i in range(1, number + 1):\n",
    "    factorial =factorial*i\n",
    "\n",
    "# Printing the result\n",
    "print(f\"The factorial of {number} is: {factorial}\")"
   ]
  }
 ],
 "metadata": {
  "kernelspec": {
   "display_name": "Python 3 (ipykernel)",
   "language": "python",
   "name": "python3"
  },
  "language_info": {
   "codemirror_mode": {
    "name": "ipython",
    "version": 3
   },
   "file_extension": ".py",
   "mimetype": "text/x-python",
   "name": "python",
   "nbconvert_exporter": "python",
   "pygments_lexer": "ipython3",
   "version": "3.9.7"
  }
 },
 "nbformat": 4,
 "nbformat_minor": 5
}
