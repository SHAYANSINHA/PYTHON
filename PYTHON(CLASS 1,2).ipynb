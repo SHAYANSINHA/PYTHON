{
 "cells": [
  {
   "cell_type": "code",
   "execution_count": 2,
   "id": "0e69ae06",
   "metadata": {},
   "outputs": [
    {
     "name": "stdout",
     "output_type": "stream",
     "text": [
      "Hello world !!!\n"
     ]
    }
   ],
   "source": [
    "print(\"Hello world !!!\")# THIS IS MY FIRST PROGRAMME"
   ]
  },
  {
   "cell_type": "code",
   "execution_count": 3,
   "id": "52eeb92e",
   "metadata": {},
   "outputs": [
    {
     "name": "stdout",
     "output_type": "stream",
     "text": [
      "Shayan Sinha Roy\n"
     ]
    }
   ],
   "source": [
    "print(\"Shayan Sinha Roy\")"
   ]
  },
  {
   "cell_type": "markdown",
   "id": "c7801edb",
   "metadata": {},
   "source": [
    "# ARITHMATIC OPERATOR -,+, * ,/,// - FLOOR(quotient),** - to the power,% -modulous(reminder)"
   ]
  },
  {
   "cell_type": "code",
   "execution_count": 4,
   "id": "3133d406",
   "metadata": {},
   "outputs": [
    {
     "name": "stdout",
     "output_type": "stream",
     "text": [
      "the multiplication of 5 and 4 is : 20\n"
     ]
    }
   ],
   "source": [
    "a=5\n",
    "b=4\n",
    "c=a*b\n",
    "print(f\"the multiplication of {a} and {b} is :\",c)"
   ]
  },
  {
   "cell_type": "code",
   "execution_count": 5,
   "id": "4da21ac5",
   "metadata": {},
   "outputs": [
    {
     "name": "stdout",
     "output_type": "stream",
     "text": [
      "the sum of 5 and 4 is : 9\n"
     ]
    }
   ],
   "source": [
    "a=5\n",
    "b=4\n",
    "c=a+b\n",
    "print(f\"the sum of {a} and {b} is :\",c)"
   ]
  },
  {
   "cell_type": "markdown",
   "id": "5ff201b6",
   "metadata": {},
   "source": [
    "# Length of a rectengle is 5 cm and breadth of a rectengle is 4 cm.Find the perimeter and area of the rectengle"
   ]
  },
  {
   "cell_type": "code",
   "execution_count": 11,
   "id": "bea5f021",
   "metadata": {},
   "outputs": [
    {
     "name": "stdout",
     "output_type": "stream",
     "text": [
      "perimeter of rectangle is : 18\n",
      "area of rectangle is : 20\n"
     ]
    }
   ],
   "source": [
    "l=5\n",
    "b=4\n",
    "perimeter=2*(l+b)\n",
    "area=l*b\n",
    "print(\"perimeter of rectangle is :\",perimeter)\n",
    "print(\"area of rectangle is :\",area)"
   ]
  },
  {
   "cell_type": "markdown",
   "id": "e5afbe9e",
   "metadata": {},
   "source": [
    "# DATATYPES"
   ]
  },
  {
   "cell_type": "code",
   "execution_count": 5,
   "id": "d618d9b2",
   "metadata": {},
   "outputs": [
    {
     "name": "stdout",
     "output_type": "stream",
     "text": [
      "<class 'int'>\n",
      "<class 'float'>\n",
      "<class 'str'>\n"
     ]
    }
   ],
   "source": [
    "a=3 # int 2 byte\n",
    "\n",
    "b=3.5 # float 4byte\n",
    "\n",
    "c=\"sum\"  #string\n",
    "print(type(a))\n",
    "print(type(b))\n",
    "print(type(c))"
   ]
  },
  {
   "cell_type": "markdown",
   "id": "716a2220",
   "metadata": {},
   "source": [
    "# TYPECASTING"
   ]
  },
  {
   "cell_type": "code",
   "execution_count": 10,
   "id": "ded29bc4",
   "metadata": {},
   "outputs": [
    {
     "name": "stdout",
     "output_type": "stream",
     "text": [
      "3\n",
      "2\n"
     ]
    }
   ],
   "source": [
    "x=\"3\"\n",
    "y=2.5\n",
    "print(int(x))\n",
    "print(int(y))"
   ]
  },
  {
   "cell_type": "code",
   "execution_count": 11,
   "id": "29638153",
   "metadata": {},
   "outputs": [
    {
     "ename": "TypeError",
     "evalue": "can only concatenate str (not \"int\") to str",
     "output_type": "error",
     "traceback": [
      "\u001b[1;31m---------------------------------------------------------------------------\u001b[0m",
      "\u001b[1;31mTypeError\u001b[0m                                 Traceback (most recent call last)",
      "\u001b[1;32m~\\AppData\\Local\\Temp/ipykernel_11908/2288754860.py\u001b[0m in \u001b[0;36m<module>\u001b[1;34m\u001b[0m\n\u001b[0;32m      1\u001b[0m \u001b[0mx\u001b[0m\u001b[1;33m=\u001b[0m\u001b[1;34m\"3\"\u001b[0m\u001b[1;33m\u001b[0m\u001b[1;33m\u001b[0m\u001b[0m\n\u001b[1;32m----> 2\u001b[1;33m \u001b[0mprint\u001b[0m\u001b[1;33m(\u001b[0m\u001b[0mx\u001b[0m\u001b[1;33m+\u001b[0m\u001b[1;36m3\u001b[0m\u001b[1;33m)\u001b[0m\u001b[1;33m\u001b[0m\u001b[1;33m\u001b[0m\u001b[0m\n\u001b[0m",
      "\u001b[1;31mTypeError\u001b[0m: can only concatenate str (not \"int\") to str"
     ]
    }
   ],
   "source": [
    "x=\"3\"\n",
    "print(x+3)"
   ]
  },
  {
   "cell_type": "code",
   "execution_count": 12,
   "id": "adc0ca3f",
   "metadata": {},
   "outputs": [
    {
     "name": "stdout",
     "output_type": "stream",
     "text": [
      "6\n"
     ]
    }
   ],
   "source": [
    "x=\"3\"\n",
    "print(int(x)+3)"
   ]
  },
  {
   "cell_type": "markdown",
   "id": "6d0a8cd8",
   "metadata": {},
   "source": [
    "# SWAPING VALUE"
   ]
  },
  {
   "cell_type": "code",
   "execution_count": 1,
   "id": "e4004d56",
   "metadata": {},
   "outputs": [
    {
     "name": "stdout",
     "output_type": "stream",
     "text": [
      "NOW x IS :  2\n",
      "NOW y IS :  3\n"
     ]
    }
   ],
   "source": [
    "x=3\n",
    "y=2\n",
    "x=x+y # 5\n",
    "y=x-y # 3\n",
    "x=x-y # 2\n",
    "print(\"NOW x IS : \",x)\n",
    "print(\"NOW y IS : \",y)"
   ]
  },
  {
   "cell_type": "code",
   "execution_count": 2,
   "id": "adc49812",
   "metadata": {},
   "outputs": [
    {
     "name": "stdout",
     "output_type": "stream",
     "text": [
      "NOW x IS :  2\n",
      "NOW y IS :  3\n"
     ]
    }
   ],
   "source": [
    "x=3\n",
    "y=2\n",
    "temp=x #3\n",
    "x=y #2\n",
    "y=temp #3\n",
    "print(\"NOW x IS : \",x)\n",
    "print(\"NOW y IS : \",y)"
   ]
  },
  {
   "cell_type": "code",
   "execution_count": 4,
   "id": "0ed38ba4",
   "metadata": {},
   "outputs": [
    {
     "name": "stdout",
     "output_type": "stream",
     "text": [
      "the values are : NOW x IS :  2  NOW y IS :  3\n"
     ]
    }
   ],
   "source": [
    "x=3\n",
    "y=2\n",
    "x,y=y,x\n",
    "print(\"the values are :\",\"NOW x IS : \",x,\" NOW y IS : \",y)"
   ]
  },
  {
   "cell_type": "code",
   "execution_count": 3,
   "id": "2af54d1f",
   "metadata": {},
   "outputs": [
    {
     "name": "stdout",
     "output_type": "stream",
     "text": [
      " Enter the first value : 5\n",
      " Enter the second value : 3\n",
      "the value  of sum of 5 and 3 is:  53\n"
     ]
    }
   ],
   "source": [
    "x=input(\" Enter the first value : \") # bydefault string\n",
    "y=input(\" Enter the second value : \")\n",
    "z=x+y\n",
    "print(f\"the value  of sum of {x} and {y} is: \",z)"
   ]
  },
  {
   "cell_type": "code",
   "execution_count": 16,
   "id": "c87a9cc9",
   "metadata": {},
   "outputs": [
    {
     "name": "stdout",
     "output_type": "stream",
     "text": [
      " Enter the first value : 5\n",
      " Enter the second value : 3\n",
      "the value  of sum of 5 and 3 is:  8\n"
     ]
    }
   ],
   "source": [
    "x=int(input(\" Enter the first value : \")) # bydefault string\n",
    "y=int(input(\" Enter the second value : \"))\n",
    "z=x+y\n",
    "print(f\"the value  of sum of {x} and {y} is: \",z)"
   ]
  },
  {
   "cell_type": "markdown",
   "id": "ae170339",
   "metadata": {},
   "source": [
    "# take 2 values from user and find their quotient,reminder and to the power values"
   ]
  },
  {
   "cell_type": "code",
   "execution_count": 21,
   "id": "649574d4",
   "metadata": {},
   "outputs": [
    {
     "name": "stdout",
     "output_type": "stream",
     "text": [
      " enter the first value : 6\n",
      " enter the second value : 4\n",
      "the quotient of 6 and 4 is : 1\n",
      "the to the power of 6 and 4 is : 1296\n",
      "the reminder of 6 and 4 is : 2\n"
     ]
    }
   ],
   "source": [
    "a=int(input(\" enter the first value : \"))\n",
    "\n",
    "b=int(input(\" enter the second value : \"))\n",
    "\n",
    "c=a//b # quotient\n",
    "\n",
    "d= a**b # to the power\n",
    "\n",
    "e= a%b # reminder\n",
    "\n",
    "print(f\"the quotient of {a} and {b} is :\",c)\n",
    "\n",
    "print(f\"the to the power of {a} and {b} is :\",d)\n",
    "\n",
    "print(f\"the reminder of {a} and {b} is :\",e)\n"
   ]
  },
  {
   "cell_type": "markdown",
   "id": "1dc171e3",
   "metadata": {},
   "source": [
    "# take length and breadth of a rectangle from user and print area and perimeter of the rectangle"
   ]
  },
  {
   "cell_type": "code",
   "execution_count": 25,
   "id": "62f8f969",
   "metadata": {},
   "outputs": [
    {
     "name": "stdout",
     "output_type": "stream",
     "text": [
      "enter the length of perimeter : 5\n",
      "enter the breadth of perimeter : 4\n",
      "perimeter of rectangle is : 18  meter\n",
      "area of rectangle is : 20  sq.meter\n"
     ]
    }
   ],
   "source": [
    "l=int(input(\"enter the length of perimeter : \"))\n",
    "\n",
    "b=int(input(\"enter the breadth of perimeter : \"))\n",
    "perimeter=2*(l+b)\n",
    "area=l*b\n",
    "print(\"perimeter of rectangle is :\",perimeter,\" meter\")\n",
    "print(\"area of rectangle is :\",area,\" sq.meter\")"
   ]
  },
  {
   "cell_type": "markdown",
   "id": "f5f9b983",
   "metadata": {},
   "source": [
    "# ask from user celcious value and print farenheit value"
   ]
  },
  {
   "cell_type": "code",
   "execution_count": 5,
   "id": "3ae9d673",
   "metadata": {},
   "outputs": [
    {
     "name": "stdout",
     "output_type": "stream",
     "text": [
      "celcious value is :5\n",
      "convert celcious value of 5  to farenheit value  that is :  41.0\n"
     ]
    }
   ],
   "source": [
    "c=int(input(\"celcious value is :\"))\n",
    "f=(9*c)/5+32\n",
    "print(f\"convert celcious value of {c}  to farenheit value  that is : \",f)"
   ]
  },
  {
   "cell_type": "markdown",
   "id": "80176b2c",
   "metadata": {},
   "source": [
    "# take n as input from user and compute n+nn+nnn"
   ]
  },
  {
   "cell_type": "code",
   "execution_count": 40,
   "id": "2dd5b66f",
   "metadata": {},
   "outputs": [
    {
     "name": "stdout",
     "output_type": "stream",
     "text": [
      "ENTER A INTEGER NUMBER : 5\n",
      "615\n"
     ]
    }
   ],
   "source": [
    "n=int(input(\"ENTER A INTEGER NUMBER : \"))\n",
    "temp=str(n)\n",
    "temp1=temp+temp\n",
    "temp2=temp+temp+temp\n",
    "cal=n+int(temp1)+int(temp2)\n",
    "print(cal)"
   ]
  },
  {
   "cell_type": "code",
   "execution_count": null,
   "id": "3dfb1792",
   "metadata": {},
   "outputs": [],
   "source": []
  }
 ],
 "metadata": {
  "kernelspec": {
   "display_name": "Python 3 (ipykernel)",
   "language": "python",
   "name": "python3"
  },
  "language_info": {
   "codemirror_mode": {
    "name": "ipython",
    "version": 3
   },
   "file_extension": ".py",
   "mimetype": "text/x-python",
   "name": "python",
   "nbconvert_exporter": "python",
   "pygments_lexer": "ipython3",
   "version": "3.9.7"
  }
 },
 "nbformat": 4,
 "nbformat_minor": 5
}
