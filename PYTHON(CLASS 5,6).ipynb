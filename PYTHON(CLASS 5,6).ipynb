{
 "cells": [
  {
   "cell_type": "markdown",
   "id": "89ea4056",
   "metadata": {},
   "source": [
    "# PRIME NUMBER(DIVISABLE BY ONLY 1 OR THIS NUMBER ONLY)"
   ]
  },
  {
   "cell_type": "code",
   "execution_count": 7,
   "id": "f1926c34",
   "metadata": {},
   "outputs": [
    {
     "name": "stdout",
     "output_type": "stream",
     "text": [
      "enter a number : 7\n",
      "7 is a prime no\n"
     ]
    }
   ],
   "source": [
    "x=int(input(\"enter a number : \"))\n",
    "flag = True\n",
    "for i in range(2,x):\n",
    "    if x%i==0:\n",
    "        break\n",
    "if flag==True :\n",
    "    print(x,\"is a prime no\")\n",
    "else :\n",
    "    print(x,\"is not a prime no\")\n",
    "\n"
   ]
  },
  {
   "cell_type": "code",
   "execution_count": 4,
   "id": "d79fe501",
   "metadata": {},
   "outputs": [
    {
     "name": "stdout",
     "output_type": "stream",
     "text": [
      "enter a INTEGER NO : 7\n",
      "7 is a prime no\n"
     ]
    }
   ],
   "source": [
    "x=int(input(\"enter a INTEGER NO : \"))\n",
    "is_prime=True\n",
    "for i in range(2,x):\n",
    "    if x%i==0:\n",
    "        break\n",
    "if is_prime==True :\n",
    "    print(x,\"is a prime no\")\n",
    "else :\n",
    "    print(x,\"is not a prime no\")\n",
    "    "
   ]
  },
  {
   "cell_type": "code",
   "execution_count": 2,
   "id": "8379afb3",
   "metadata": {},
   "outputs": [
    {
     "name": "stdout",
     "output_type": "stream",
     "text": [
      "1\n",
      "2\n",
      "3\n",
      "4\n",
      "5\n"
     ]
    }
   ],
   "source": [
    "i=1\n",
    "while(i<=5):\n",
    "    print(i)\n",
    "    i=i+1"
   ]
  },
  {
   "cell_type": "code",
   "execution_count": 9,
   "id": "eac9fe03",
   "metadata": {},
   "outputs": [
    {
     "name": "stdout",
     "output_type": "stream",
     "text": [
      "5\n",
      "4\n",
      "3\n",
      "2\n",
      "1\n"
     ]
    }
   ],
   "source": [
    "i=5\n",
    "while(i>=1):\n",
    "    print(i)\n",
    "    i=i-1"
   ]
  },
  {
   "cell_type": "code",
   "execution_count": 13,
   "id": "f888da06",
   "metadata": {},
   "outputs": [
    {
     "name": "stdout",
     "output_type": "stream",
     "text": [
      "Enter an integer: 123\n",
      "The number has 3 digits\n"
     ]
    }
   ],
   "source": [
    "number = int(input(\"Enter an integer: \"))  # 123\n",
    "count = 0\n",
    "\n",
    "while number!= 0:\n",
    " count = count+1 # 1,2,3\n",
    " number =number//10 #12,1,0\n",
    "\n",
    "print(f\"The number has {count} digits\")"
   ]
  },
  {
   "cell_type": "code",
   "execution_count": 14,
   "id": "7f8bf30b",
   "metadata": {},
   "outputs": [
    {
     "name": "stdout",
     "output_type": "stream",
     "text": [
      "Enter an integer: 456789\n",
      "The number has 6 digits\n"
     ]
    }
   ],
   "source": [
    "number = int(input(\"Enter an integer: \"))  # 123\n",
    "count = 0\n",
    "\n",
    "while number!= 0:\n",
    " count = count+1 # 1,2,3\n",
    " number =number//10 #12,1,0\n",
    "\n",
    "print(f\"The number has {count} digits\")"
   ]
  },
  {
   "cell_type": "code",
   "execution_count": 18,
   "id": "ce322d5a",
   "metadata": {},
   "outputs": [
    {
     "name": "stdout",
     "output_type": "stream",
     "text": [
      "Enter an integer: 123\n",
      "The sum of number was 6\n"
     ]
    }
   ],
   "source": [
    "x = int(input(\"Enter an integer: \"))  # 123\n",
    "sum = 0\n",
    "\n",
    "while x>0:\n",
    " rem = x%10 # 3,2,1\n",
    " sum=sum+rem #3,5,6   \n",
    " x =x//10 #12,1,0\n",
    "\n",
    "print(f\"The sum of number was {sum}\")"
   ]
  },
  {
   "cell_type": "code",
   "execution_count": 1,
   "id": "7eb9d336",
   "metadata": {},
   "outputs": [
    {
     "name": "stdout",
     "output_type": "stream",
     "text": [
      "Enter an integer: 521\n",
      "The sum of number was 8\n"
     ]
    }
   ],
   "source": [
    "x = int(input(\"Enter an integer: \"))  # 123\n",
    "sum = 0\n",
    "\n",
    "while x>0:\n",
    " rem = x%10 # 3,2,1\n",
    " sum=sum+rem #3,5,6   \n",
    " x =x//10 #12,1,0\n",
    "print(f\"The sum of number was {sum}\")"
   ]
  },
  {
   "cell_type": "markdown",
   "id": "fdaa466a",
   "metadata": {},
   "source": [
    "# check prime or not"
   ]
  },
  {
   "cell_type": "code",
   "execution_count": 9,
   "id": "e5db8ae7",
   "metadata": {},
   "outputs": [
    {
     "name": "stdout",
     "output_type": "stream",
     "text": [
      "Enter a number: 7\n",
      "7 is a prime number.\n"
     ]
    }
   ],
   "source": [
    "num = int(input(\"Enter a number: \"))\n",
    "is_prime = True\n",
    "divisor = 2\n",
    "\n",
    "while divisor < num:\n",
    "    if num % divisor == 0:\n",
    "        break\n",
    "    divisor += 1\n",
    "\n",
    "if is_prime and num > 1:\n",
    "    print(num, \"is a prime number.\")\n",
    "else:\n",
    "    print(num, \"is not a prime number.\")"
   ]
  },
  {
   "cell_type": "markdown",
   "id": "9a460aff",
   "metadata": {},
   "source": [
    "# armstrong_number"
   ]
  },
  {
   "cell_type": "markdown",
   "id": "0e4c6bbc",
   "metadata": {},
   "source": [
    "# 371=3^3+7^3+1^3"
   ]
  },
  {
   "cell_type": "code",
   "execution_count": 1,
   "id": "c0f3b039",
   "metadata": {},
   "outputs": [
    {
     "name": "stdout",
     "output_type": "stream",
     "text": [
      "enter a number : 371\n",
      "371 is a armstrong number\n"
     ]
    }
   ],
   "source": [
    "x=int(input(\"enter a number : \"))\n",
    "temp=x\n",
    "temp1=x\n",
    "count=0\n",
    "sum=0\n",
    "while temp>0:\n",
    "    count=count+1\n",
    "    temp=temp//10 # 3\n",
    "while temp1>0:\n",
    "    rem=temp1%10#1\n",
    "    sum=sum+(rem**count)# 1^3\n",
    "    temp1=temp1//10\n",
    "if x==sum:\n",
    "    print(x,\"is a armstrong number\")\n",
    "else :\n",
    "    print(x,\"is not armstrong number\")"
   ]
  },
  {
   "cell_type": "markdown",
   "id": "1443ebde",
   "metadata": {},
   "source": [
    "# STRONG NUMBER\n",
    "# 145=1!+4!+5!=1+24+120=145"
   ]
  },
  {
   "cell_type": "code",
   "execution_count": 4,
   "id": "386ed375",
   "metadata": {},
   "outputs": [
    {
     "name": "stdout",
     "output_type": "stream",
     "text": [
      "enter a number145\n",
      "145 is a strong number\n"
     ]
    }
   ],
   "source": [
    "x=int(input(\"enter a number\"))\n",
    "temp=x\n",
    "sum=0\n",
    "while temp>0:\n",
    "    rem=temp%10 #5\n",
    "    fact=1\n",
    "    while rem>1:\n",
    "        fact=fact*rem # 1*5\n",
    "        rem=rem-1 #4,3,2,1\n",
    "    sum=sum+fact\n",
    "    temp=temp//10\n",
    "if sum==x:\n",
    "    print(x,\"is a strong number\")\n",
    "else :\n",
    "    print(x,\"is not a strong number\")"
   ]
  },
  {
   "cell_type": "markdown",
   "id": "822fe6f1",
   "metadata": {},
   "source": [
    "# HARSHAD NUMBER\n",
    "# 24=2+4=6(is a number that divisable by sum of its digits)"
   ]
  },
  {
   "cell_type": "code",
   "execution_count": 2,
   "id": "16d27f40",
   "metadata": {},
   "outputs": [
    {
     "name": "stdout",
     "output_type": "stream",
     "text": [
      "enter a number : 24\n",
      "24 is a harshad number\n"
     ]
    }
   ],
   "source": [
    "x=int(input(\"enter a number : \"))\n",
    "temp=x\n",
    "sum=0\n",
    "while temp>0:\n",
    "    rem=temp%10\n",
    "    sum=sum+rem\n",
    "    temp=temp//10 # 4\n",
    "if x%sum==0:\n",
    "    print(x,\"is a harshad number\")\n",
    "else :\n",
    "    print(x,\"is not a harshad number\")"
   ]
  },
  {
   "cell_type": "markdown",
   "id": "2e2faadb",
   "metadata": {},
   "source": [
    "# PATTERN STRINGS"
   ]
  },
  {
   "cell_type": "code",
   "execution_count": null,
   "id": "8973c3da",
   "metadata": {},
   "outputs": [],
   "source": [
    "*\n",
    "**\n",
    "***\n",
    "****\n",
    "***** # i=no of line\n",
    "      # j=no of star in each line\n",
    "for i=1 i=2   i=3     i=4       i=5\n",
    "for j=1 j=1,2 j=1,2,3 j=1,2,3,4 j=1,2,3,4,5"
   ]
  },
  {
   "cell_type": "code",
   "execution_count": 11,
   "id": "cfc21e5f",
   "metadata": {},
   "outputs": [
    {
     "name": "stdout",
     "output_type": "stream",
     "text": [
      "* \n",
      "* * \n",
      "* * * \n",
      "* * * * \n",
      "* * * * * \n"
     ]
    }
   ],
   "source": [
    "for i in range(1,6):\n",
    "    for j in range(1,i+1):\n",
    "        print(\"*\",end=\" \")\n",
    "    print()"
   ]
  },
  {
   "cell_type": "code",
   "execution_count": null,
   "id": "38c0fcc2",
   "metadata": {},
   "outputs": [],
   "source": [
    "*****\n",
    "****\n",
    "***\n",
    "**\n",
    "*"
   ]
  },
  {
   "cell_type": "code",
   "execution_count": 12,
   "id": "cda3994a",
   "metadata": {},
   "outputs": [
    {
     "name": "stdout",
     "output_type": "stream",
     "text": [
      "* * * * * \n",
      "* * * * \n",
      "* * * \n",
      "* * \n",
      "* \n"
     ]
    }
   ],
   "source": [
    "for i in range(5,0,-1):\n",
    "    for j in range(1,i+1):\n",
    "        print(\"*\",end=\" \")\n",
    "    print()"
   ]
  },
  {
   "cell_type": "code",
   "execution_count": null,
   "id": "9943c8f2",
   "metadata": {},
   "outputs": [],
   "source": [
    "54321\n",
    "5432\n",
    "543\n",
    "54\n",
    "5"
   ]
  },
  {
   "cell_type": "code",
   "execution_count": 17,
   "id": "e6b86874",
   "metadata": {},
   "outputs": [
    {
     "name": "stdout",
     "output_type": "stream",
     "text": [
      "5 4 3 2 1 \n",
      "5 4 3 2 \n",
      "5 4 3 \n",
      "5 4 \n",
      "5 \n"
     ]
    }
   ],
   "source": [
    "for i in range(1,6):\n",
    "    for j in range(5,i-1,-1):\n",
    "        print(j,end=\" \")\n",
    "    print()"
   ]
  },
  {
   "cell_type": "code",
   "execution_count": null,
   "id": "7c41bb6d",
   "metadata": {},
   "outputs": [],
   "source": []
  }
 ],
 "metadata": {
  "kernelspec": {
   "display_name": "Python 3 (ipykernel)",
   "language": "python",
   "name": "python3"
  },
  "language_info": {
   "codemirror_mode": {
    "name": "ipython",
    "version": 3
   },
   "file_extension": ".py",
   "mimetype": "text/x-python",
   "name": "python",
   "nbconvert_exporter": "python",
   "pygments_lexer": "ipython3",
   "version": "3.9.7"
  }
 },
 "nbformat": 4,
 "nbformat_minor": 5
}
